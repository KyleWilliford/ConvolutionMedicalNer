{
 "cells": [
  {
   "cell_type": "code",
   "execution_count": 1,
   "metadata": {},
   "outputs": [
    {
     "name": "stderr",
     "output_type": "stream",
     "text": [
      "X:\\Anaconda\\envs\\mimic2\\lib\\site-packages\\spacy\\util.py:833: UserWarning: [W095] Model 'en_core_med7_lg' (3.1.3.1) was trained with spaCy v3.1 and may not be 100% compatible with the current version (3.2.4). If you see errors or degraded performance, download a newer compatible model or retrain your custom model with the current spaCy version. For more details and available updates, run: python -m spacy validate\n",
      "  warnings.warn(warn_msg)\n"
     ]
    }
   ],
   "source": [
    "import pandas as pd\n",
    "import spacy\n",
    "\n",
    "# os.environ['CUDA_VISIBLE_DEVICES'] = '2'\n",
    "# spacy.require_gpu()\n",
    "med7 = spacy.load(\"en_core_med7_lg\")"
   ]
  },
  {
   "cell_type": "code",
   "execution_count": 2,
   "metadata": {},
   "outputs": [],
   "source": [
    "preprocessed_df = pd.read_pickle(\"data/preprocessed_notes.p\")"
   ]
  },
  {
   "cell_type": "code",
   "execution_count": 3,
   "metadata": {},
   "outputs": [],
   "source": [
    "preprocessed_df['ner'] = None"
   ]
  },
  {
   "cell_type": "code",
   "execution_count": 4,
   "metadata": {},
   "outputs": [
    {
     "name": "stdout",
     "output_type": "stream",
     "text": [
      "error..\n"
     ]
    }
   ],
   "source": [
    "count = 0\n",
    "preprocessed_index = {}\n",
    "for i in preprocessed_df.itertuples():\n",
    "    \n",
    "    if count != 0 and count % 100 == 0:\n",
    "        print(count)\n",
    "        break\n",
    "\n",
    "    count += 1\n",
    "    ind = i.Index\n",
    "    text = i.preprocessed_text\n",
    "    \n",
    "    all_pred = []\n",
    "    for each_sent in text:\n",
    "        try:\n",
    "            doc = med7(each_sent)\n",
    "            result = ([(ent.text, ent.label_) for ent in doc.ents])\n",
    "            if len(result) == 0: continue\n",
    "            all_pred.append(result)\n",
    "        except:\n",
    "            print(\"error..\")\n",
    "            continue\n",
    "    preprocessed_df.at[ind, 'ner'] = all_pred"
   ]
  },
  {
   "cell_type": "code",
   "execution_count": null,
   "metadata": {},
   "outputs": [],
   "source": [
    "pd.to_pickle(preprocessed_df, \"data/ner_df.p\")"
   ]
  }
 ],
 "metadata": {
  "interpreter": {
   "hash": "87e9bcdd25f1ddc29228cea29646c5d27f6e00675a318c67751279e99a7b1f9d"
  },
  "kernelspec": {
   "display_name": "Python 2",
   "language": "python",
   "name": "python3"
  },
  "language_info": {
   "codemirror_mode": {
    "name": "ipython",
    "version": 3
   },
   "file_extension": ".py",
   "mimetype": "text/x-python",
   "name": "python",
   "nbconvert_exporter": "python",
   "pygments_lexer": "ipython3",
   "version": "3.10.4"
  }
 },
 "nbformat": 4,
 "nbformat_minor": 4
}
