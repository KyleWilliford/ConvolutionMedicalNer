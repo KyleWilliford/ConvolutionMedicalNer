{
 "cells": [
  {
   "cell_type": "code",
   "execution_count": 1,
   "metadata": {},
   "outputs": [],
   "source": [
    "import os\n",
    "import pandas as pd"
   ]
  },
  {
   "cell_type": "code",
   "execution_count": 9,
   "metadata": {},
   "outputs": [],
   "source": [
    "result_path = \"../results/07-baseline\"\n",
    "\n",
    "exps = os.listdir(result_path)\n",
    "\n"
   ]
  },
  {
   "cell_type": "code",
   "execution_count": 39,
   "metadata": {},
   "outputs": [],
   "source": [
    "def get_results_baseline(result_path: str):\n",
    "    result_dists = []\n",
    "    exps = os.listdir(result_path)\n",
    "    for exp in exps:\n",
    "        result_dict = pd.read_pickle(os.path.join(result_path, exp))\n",
    "        result_dict[\"hidden_units\"], result_dict[\"layer\"], result_dict[\"task\"], result_dict[\"iteration\"] = exp.split(\"-\")[:4]\n",
    "        result_dists.append(result_dict)\n",
    "    result = pd.DataFrame(result_dists)\n",
    "    result.sort_values(by=[\"task\", \"auc\"], inplace=True, ascending=False)\n",
    "    top_resutls = result.drop_duplicates(subset=[\"task\", \"layer\"])\n",
    "    print(top_resutls.to_string(index=False))\n",
    "    return result\n",
    "\n",
    "def get_results_multimodal(result_path: str):\n",
    "    result_dists = []\n",
    "    exps = os.listdir(result_path)\n",
    "    for exp in exps:\n",
    "        result_dict = pd.read_pickle(os.path.join(result_path, exp))\n",
    "        result_dict[\"layer\"], result_dict[\"hidden_units\"], result_dict[\"embedding\"], result_dict[\"task\"], result_dict[\"iteration\"]  = exp.split(\"-\")[:5]\n",
    "        result_dists.append(result_dict)\n",
    "    result = pd.DataFrame(result_dists)\n",
    "    result.sort_values(by=[\"task\", \"auc\"], inplace=True, ascending=False)\n",
    "    top_resutls = result.drop_duplicates(subset=[\"task\", \"embedding\"])\n",
    "    print(top_resutls.to_string(index=False))\n",
    "    return result"
   ]
  },
  {
   "cell_type": "code",
   "execution_count": 40,
   "metadata": {},
   "outputs": [
    {
     "name": "stdout",
     "output_type": "stream",
     "text": [
      "     auc    auprc      acc       F1 hidden_units layer      task iteration\n",
      "0.892376 0.533598 0.941352 0.453961          128   GRU  mort_icu         7\n",
      "0.890135 0.502226 0.939512 0.416851          128  LSTM  mort_icu         2\n",
      "0.884781 0.574463 0.913753 0.457308          256   GRU mort_hosp         2\n",
      "0.881239 0.563010 0.914443 0.422360          128  LSTM mort_hosp         2\n",
      "0.748483 0.211612 0.917433 0.032345          256   GRU     los_7         8\n",
      "0.733743 0.207542 0.918353 0.011142          256  LSTM     los_7         5\n",
      "0.703048 0.649674 0.669043 0.571599          128   GRU     los_3         8\n",
      "0.703038 0.648479 0.657774 0.537313          256  LSTM     los_3         8\n"
     ]
    }
   ],
   "source": [
    "resutls_baseline = get_results_baseline( \"../results/07-baseline\")"
   ]
  },
  {
   "cell_type": "code",
   "execution_count": 41,
   "metadata": {},
   "outputs": [
    {
     "name": "stdout",
     "output_type": "stream",
     "text": [
      "     auc    auprc      acc       F1 layer hidden_units embedding      task iteration\n",
      "0.890850 0.529524 0.941394 0.450216   GRU          128  word2vec  mort_icu         1\n",
      "0.887960 0.517286 0.942547 0.452747   GRU          128    concat  mort_icu         1\n",
      "0.885430 0.509453 0.940009 0.398148   GRU          256  fasttext  mort_icu         1\n",
      "0.880960 0.593695 0.916936 0.478261   GRU          256    concat mort_hosp         1\n",
      "0.880163 0.593208 0.918090 0.487734   GRU          256  word2vec mort_hosp         1\n",
      "0.879410 0.591610 0.917167 0.487874   GRU          256  fasttext mort_hosp         1\n",
      "0.734899 0.219046 0.917859 0.027322   GRU          128  fasttext     los_7         1\n",
      "0.730288 0.219785 0.919012 0.011268   GRU          256  word2vec     los_7         1\n",
      "0.719413 0.212643 0.918782 0.032967   GRU          256    concat     los_7         1\n",
      "0.704413 0.647540 0.666359 0.561552   GRU          256    concat     los_3         1\n",
      "0.704340 0.643529 0.669359 0.563243   GRU          256  word2vec     los_3         1\n",
      "0.700834 0.636873 0.666128 0.565596   GRU          256  fasttext     los_3         1\n"
     ]
    }
   ],
   "source": [
    "resutls_baseline = get_results_multimodal( \"../results/08-multimodal\")"
   ]
  }
 ],
 "metadata": {
  "interpreter": {
   "hash": "ac39ed67851a5b062e4ecefc4a8f08887253d21bcb8221a5134dca288b4fe59a"
  },
  "kernelspec": {
   "display_name": "Python 3.9.7 ('base')",
   "language": "python",
   "name": "python3"
  },
  "language_info": {
   "codemirror_mode": {
    "name": "ipython",
    "version": 3
   },
   "file_extension": ".py",
   "mimetype": "text/x-python",
   "name": "python",
   "nbconvert_exporter": "python",
   "pygments_lexer": "ipython3",
   "version": "3.8.13"
  },
  "orig_nbformat": 4
 },
 "nbformat": 4,
 "nbformat_minor": 2
}
